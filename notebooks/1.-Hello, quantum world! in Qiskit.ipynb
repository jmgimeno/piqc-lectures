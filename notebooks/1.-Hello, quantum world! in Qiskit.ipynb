{
 "cells": [
  {
   "cell_type": "markdown",
   "metadata": {},
   "source": [
    "# FIRST STEPS IN QISKIT\n",
    "\n",
    "In this notebook, we are going to learn how to use Qiskit to define a simple circuit and to execute it on both simulators and the quantum computers of the IBM Quantum Experience.. \n",
    "\n",
    "We start by importing the necessary packages."
   ]
  },
  {
   "cell_type": "code",
   "execution_count": 1,
   "metadata": {},
   "outputs": [],
   "source": [
    "%matplotlib inline\n",
    "\n",
    "from qiskit import *\n",
    "from qiskit.visualization import *\n",
    "from qiskit.tools.monitor import *"
   ]
  },
  {
   "cell_type": "markdown",
   "metadata": {},
   "source": [
    "## Defining the circuit\n",
    "\n",
    "Now, we are going to define a very simple circuit: we will use the $H$ gate to put a qubit in superposition and then we will measure it"
   ]
  },
  {
   "cell_type": "code",
   "execution_count": 2,
   "metadata": {},
   "outputs": [
    {
     "data": {
      "image/png": "[encoded data removed]",
      "text/plain": [
       "<Figure size 193.726x144.48 with 1 Axes>"
      ]
     },
     "execution_count": 2,
     "metadata": {},
     "output_type": "execute_result"
    }
   ],
   "source": [
    "# Let's create a circuit to put a state in superposition and measure it\n",
    "\n",
    "circ = QuantumCircuit(1,1) # We use one qubit and also one classical bit for the measure result \n",
    "\n",
    "circ.h(0) #We apply the H gate\n",
    "\n",
    "circ.measure(range(1),range(1)) # We measure\n",
    "\n",
    "circ.draw(output='mpl') #We draw the circuit"
   ]
  },
  {
   "cell_type": "markdown",
   "metadata": {},
   "source": [
    "We can also very easily obtain the *qasm* code for the circuit."
   ]
  },
  {
   "cell_type": "code",
   "execution_count": 3,
   "metadata": {},
   "outputs": [
    {
     "name": "stdout",
     "output_type": "stream",
     "text": [
      "OPENQASM 2.0;\n",
      "include \"qelib1.inc\";\n",
      "qreg q[1];\n",
      "creg c[1];\n",
      "h q[0];\n",
      "measure q[0] -> c[0];\n",
      "\n"
     ]
    }
   ],
   "source": [
    "print(circ.qasm())"
   ]
  },
  {
   "cell_type": "markdown",
   "metadata": {},
   "source": [
    "## Running the circuit on simulators\n",
    "\n",
    "Once that we have defined the circuit, we can execute it on a simulator. "
   ]
  },
  {
   "cell_type": "code",
   "execution_count": 4,
   "metadata": {},
   "outputs": [
    {
     "name": "stdout",
     "output_type": "stream",
     "text": [
      "{'0': 510, '1': 514}\n"
     ]
    },
    {
     "data": {
      "image/png": "[encoded data removed]",
      "text/plain": [
       "<Figure size 504x360 with 1 Axes>"
      ]
     },
     "execution_count": 4,
     "metadata": {},
     "output_type": "execute_result"
    }
   ],
   "source": [
    "# Executing on the local simulator\n",
    "\n",
    "backend_sim = Aer.get_backend('qasm_simulator') # We choose the backend\n",
    "\n",
    "job_sim = execute(circ, backend_sim, shots=1024) # We execute the circuit, selecting the number of repetitions or 'shots'\n",
    "\n",
    "result_sim = job_sim.result() # We collect the results\n",
    "\n",
    "counts = result_sim.get_counts(circ) # We obtain the frequency of each result and we show them \n",
    "print(counts) \n",
    "plot_histogram(counts)"
   ]
  },
  {
   "cell_type": "markdown",
   "metadata": {},
   "source": [
    "We can also run the circuit run the circuit with a simulator that computes the final state. For that, we need to create a circuit with no measures "
   ]
  },
  {
   "cell_type": "code",
   "execution_count": 5,
   "metadata": {},
   "outputs": [
    {
     "name": "stdout",
     "output_type": "stream",
     "text": [
      "[0.70710678+0.j 0.70710678+0.j]\n"
     ]
    }
   ],
   "source": [
    "# Execution to the get the statevector\n",
    "\n",
    "circ2 = QuantumCircuit(1,1)\n",
    "\n",
    "circ2.h(0)\n",
    "\n",
    "backend = Aer.get_backend('statevector_simulator') # We change the backend\n",
    "\n",
    "job = execute(circ2, backend) # We execute the circuit with the new simulator. Now, we do not need repetitions\n",
    "\n",
    "result = job.result() # We collect the results and access the stavector \n",
    "outputstate = result.get_statevector(circ2)\n",
    "print(outputstate)"
   ]
  },
  {
   "cell_type": "markdown",
   "metadata": {},
   "source": [
    "Finally, we can also obtain the unitary matrix that represents the action of the circuit"
   ]
  },
  {
   "cell_type": "code",
   "execution_count": 6,
   "metadata": {},
   "outputs": [
    {
     "name": "stdout",
     "output_type": "stream",
     "text": [
      "[[ 0.70710678+0.00000000e+00j  0.70710678-8.65956056e-17j]\n",
      " [ 0.70710678+0.00000000e+00j -0.70710678+8.65956056e-17j]]\n"
     ]
    }
   ],
   "source": [
    "backend = Aer.get_backend('unitary_simulator') # We change the backend again\n",
    "\n",
    "job = execute(circ2, backend) # We execute the circuit\n",
    "\n",
    "result = job.result() # We collect the results and obtain the matrix\n",
    "unitary = result.get_unitary()\n",
    "print(unitary)\n"
   ]
  },
  {
   "cell_type": "markdown",
   "metadata": {},
   "source": [
    "Now, we are going to use the quantum computers at the IBM Quantum Experience to use our circuit "
   ]
  },
  {
   "cell_type": "code",
   "execution_count": 11,
   "metadata": {},
   "outputs": [
    {
     "name": "stderr",
     "output_type": "stream",
     "text": [
      "ibmqfactory.load_account:WARNING:2020-11-08 10:17:53,313: Credentials are already in use. The existing account in the session will be replaced.\n"
     ]
    },
    {
     "name": "stdout",
     "output_type": "stream",
     "text": [
      "{'backend_name': 'ibmq_qasm_simulator', 'backend_version': '0.1.547', 'operational': True, 'pending_jobs': 2, 'status_msg': 'active'}\n",
      "{'backend_name': 'ibmqx2', 'backend_version': '2.2.1', 'operational': True, 'pending_jobs': 240, 'status_msg': 'active'}\n",
      "{'backend_name': 'ibmq_16_melbourne', 'backend_version': '2.3.2', 'operational': True, 'pending_jobs': 636, 'status_msg': 'active'}\n",
      "{'backend_name': 'ibmq_vigo', 'backend_version': '1.3.0', 'operational': True, 'pending_jobs': 182, 'status_msg': 'active'}\n",
      "{'backend_name': 'ibmq_ourense', 'backend_version': '1.3.0', 'operational': True, 'pending_jobs': 114, 'status_msg': 'active'}\n",
      "{'backend_name': 'ibmq_valencia', 'backend_version': '1.4.0', 'operational': True, 'pending_jobs': 4, 'status_msg': 'active'}\n",
      "{'backend_name': 'ibmq_armonk', 'backend_version': '1.1.1', 'operational': True, 'pending_jobs': 4, 'status_msg': 'active'}\n",
      "{'backend_name': 'ibmq_athens', 'backend_version': '1.2.1', 'operational': True, 'pending_jobs': 0, 'status_msg': 'active'}\n",
      "{'backend_name': 'ibmq_santiago', 'backend_version': '1.1.1', 'operational': True, 'pending_jobs': 8, 'status_msg': 'active'}\n"
     ]
    }
   ],
   "source": [
    "# Connecting to the real quantum computers\n",
    "\n",
    "provider = IBMQ.load_account() # We load our account \n",
    "provider.backends() # We retrieve the backends to check their status\n",
    "\n",
    "for b in provider.backends():\n",
    "    print(b.status().to_dict())"
   ]
  },
  {
   "cell_type": "markdown",
   "metadata": {},
   "source": [
    "We can execute the circuit on IBM's quantum simulator (supports up to 32 qubits). We only need to select the appropriate backend."
   ]
  },
  {
   "cell_type": "code",
   "execution_count": 12,
   "metadata": {},
   "outputs": [
    {
     "name": "stdout",
     "output_type": "stream",
     "text": [
      "{'0': 515, '1': 509}\n"
     ]
    },
    {
     "data": {
      "image/png": "[encoded data removed]",
      "text/plain": [
       "<Figure size 504x360 with 1 Axes>"
      ]
     },
     "execution_count": 12,
     "metadata": {},
     "output_type": "execute_result"
    }
   ],
   "source": [
    "# Executing on the IBM Q Experience simulator\n",
    "\n",
    "backend_sim = provider.get_backend('ibmq_qasm_simulator') # We choose the backend\n",
    "\n",
    "job_sim = execute(circ, backend_sim, shots=1024) # We execute the circuit, selecting the number of repetitions or 'shots'\n",
    "\n",
    "result_sim = job_sim.result() # We collect the results\n",
    "\n",
    "counts = result_sim.get_counts(circ) # We obtain the frequency of each result and we show them \n",
    "print(counts) \n",
    "plot_histogram(counts)"
   ]
  },
  {
   "cell_type": "markdown",
   "metadata": {},
   "source": [
    "To execute on one of the real quantum computers, we only need to select it as backend. We will use *job_monitor* to have live information on the job status "
   ]
  },
  {
   "cell_type": "code",
   "execution_count": 13,
   "metadata": {},
   "outputs": [
    {
     "name": "stdout",
     "output_type": "stream",
     "text": [
      "Job Status: job has successfully run\n"
     ]
    }
   ],
   "source": [
    "# Executing on the quantum computer\n",
    "\n",
    "backend = provider.get_backend('ibmq_armonk')\n",
    "\n",
    "job_exp = execute(circ, backend=backend)\n",
    "job_monitor(job_exp)"
   ]
  },
  {
   "cell_type": "markdown",
   "metadata": {},
   "source": [
    "When the job is done, we can collect the results and compare them to the ones obtaine with the simulator"
   ]
  },
  {
   "cell_type": "code",
   "execution_count": 14,
   "metadata": {},
   "outputs": [
    {
     "data": {
      "image/png": "[encoded data removed]",
      "text/plain": [
       "<Figure size 504x360 with 1 Axes>"
      ]
     },
     "execution_count": 14,
     "metadata": {},
     "output_type": "execute_result"
    }
   ],
   "source": [
    "result_exp = job_exp.result()\n",
    "counts_exp = result_exp.get_counts(circ)\n",
    "plot_histogram([counts_exp,counts], legend=['Device', 'Simulator'])"
   ]
  },
  {
   "cell_type": "code",
   "execution_count": null,
   "metadata": {},
   "outputs": [],
   "source": []
  }
 ],
 "metadata": {
  "kernelspec": {
   "display_name": "Python 3",
   "language": "python",
   "name": "python3"
  },
  "language_info": {
   "codemirror_mode": {
    "name": "ipython",
    "version": 3
   },
   "file_extension": ".py",
   "mimetype": "text/x-python",
   "name": "python",
   "nbconvert_exporter": "python",
   "pygments_lexer": "ipython3",
   "version": "3.8.6"
  }
 },
 "nbformat": 4,
 "nbformat_minor": 4
}
